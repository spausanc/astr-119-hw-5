{
 "cells": [
  {
   "cell_type": "code",
   "execution_count": null,
   "metadata": {},
   "outputs": [],
   "source": [
    "%matplotlib inline\n",
    "import matplotlib.pyplot as plt\n",
    "import numpy as np"
   ]
  },
  {
   "cell_type": "markdown",
   "metadata": {},
   "source": [
    "### Define the coupled derivative functions to integrate"
   ]
  },
  {
   "cell_type": "markdown",
   "metadata": {},
   "source": [
    "Why is he making an array of y derivatives? How does this help us later?\n",
    "Is it so they're in system of equations form?"
   ]
  },
  {
   "cell_type": "code",
   "execution_count": null,
   "metadata": {},
   "outputs": [],
   "source": [
    "def dydx(x, y):\n",
    "    \n",
    "    # A second-order diff. eq. can be written in a system\n",
    "    #of first-order diff. eqs. They're 'coupled'\n",
    "    \n",
    "    \n",
    "    # Set an array of the derivative functions in the system\n",
    "    y_derivs = np.zeros(2)\n",
    "    \n",
    "    # dydx = z\n",
    "    y_derivs[0] =    y[1]  # Hence, y is an array\n",
    "    \n",
    "    # dzdx = -y\n",
    "    y_derivs[1] = -1*y[0]\n",
    "\n",
    "    return y_derivs"
   ]
  },
  {
   "cell_type": "markdown",
   "metadata": {},
   "source": [
    "### Define the 4th order RK method"
   ]
  },
  {
   "cell_type": "markdown",
   "metadata": {},
   "source": [
    "What is a core method?"
   ]
  },
  {
   "cell_type": "markdown",
   "metadata": {},
   "source": [
    "### Declaration of Cask-Karp constants based on table"
   ]
  },
  {
   "cell_type": "code",
   "execution_count": null,
   "metadata": {},
   "outputs": [],
   "source": [
    "a1, a2, a3, a4, a5, a6 = 0., 1/5, 3/10, 3/5, 1., 7/8\n",
    "b21 = 1/5\n",
    "b31, b32 = 3/40, 9/40\n",
    "b41, b42, b43 = 3/10, -9/10, 6/5\n",
    "b51, b52, b53, b54 = -11/54, 5/2, -70/27, 35/27\n",
    "b61, b62, b63, b64, b65 = 1631/55296, 175/512, 575/13824, 44275/110592, 253/4096\n",
    "c1, c2, c3, c4, c5, c6 = 37/378, 0., 250/621, 125/594, 0., 512/1771\n",
    "c1s, c2s, c3s, c4s, c5s, c6s = 2825/27648, 0., 18575/48384, 13525/55296, 277/14336, 1/4"
   ]
  },
  {
   "cell_type": "code",
   "execution_count": null,
   "metadata": {},
   "outputs": [],
   "source": [
    "def rk4_mv_core(dydx, xi, yi, nv, h):\n",
    "    # h = stepsize. Distance between xi and yi\n",
    "    # k[] declaration extracted from @zbriesem/stellarmodel/integration.py\n",
    "    \n",
    "    x = np.asarray(xi)\n",
    "    y = np.asarray(yi)\n",
    "    k = np.zeros((6, yi.shape[0]), dtype=float)\n",
    "    \n",
    "    # Starts with k1 = k[0]           What's args?\n",
    "    k[0] = h * dydx(x + a1 * h, y)\n",
    "    k[1] = h * dydx(x + a2 * h, y + b21 * k[0])\n",
    "    k[2] = h * dydx(x + a3 * h, y + b31 * k[0] + b32 * k[1])\n",
    "    k[3] = h * dydx(x + a4 * h, y + b41 * k[0] + b42 * k[1] + b43 * k[2])\n",
    "    k[4] = h * dydx(x + a5 * h, y + b51 * k[0] + b52 * k[1] + b53 * k[2] + b54 * k[3])\n",
    "    k[5] = h * dydx(x + a6 * h, y + b61 * k[0] + b62 * k[1] + b63 * k[2] + b64 * k[3] + b65 * k[4])\n",
    "    \n",
    "    \n",
    "    # Advance y by a step h\n",
    "    yipo = yi + c1*k[0] + c2*k[1] + c3*k[2] + c4*k[3] + c5*k[4] + c6*k[5]\n",
    "    \n",
    "    return yipo\n",
    "    "
   ]
  },
  {
   "cell_type": "markdown",
   "metadata": {},
   "source": [
    "Why doesn't he just define k_N for each order and then assign each a, b, b*, and c at the end? \n",
    "\n",
    "In that case, how would we make the iteration run through all the n?\n",
    "\n",
    "I just really don't like that thing /6"
   ]
  },
  {
   "cell_type": "markdown",
   "metadata": {},
   "source": [
    "### Adaptive step size driver"
   ]
  },
  {
   "cell_type": "code",
   "execution_count": null,
   "metadata": {},
   "outputs": [],
   "source": [
    "def rk4_mv_ad(dydx, x_i, y_i, nv, h, tol):\n",
    "    \n",
    "    # Define safety scale\n",
    "    SAFETY = 0.9     #This is the number we multiply by to reduce h\n",
    "    H_NEW_FAC = 2.0  #?\n",
    "    \n",
    "    # Set a maximum number of iterations\n",
    "    imax = 10000\n",
    "    \n",
    "    # Set an iteration variable\n",
    "    i = 0\n",
    "    \n",
    "    # Create an error\n",
    "    Delta = np.full(nv, 2*tol)\n",
    "    \"\"\"np.full returns an array with nv elements of value 2*tol\n",
    "    Why would I want that?\n",
    "    \n",
    "    If nv was (a, b), it would make a matrix a x b\n",
    "    \n",
    "    Returns an ndarray\"\"\"\n",
    "    \n",
    "    # Rename the step\n",
    "    h_step = h\n",
    "    \n",
    "    # Adjust step\n",
    "    while (Delta.max()/tol > 1.0):\n",
    "        \n",
    "        # Estimate the error by taking one step of size h\n",
    "        #vs. two steps of size h/2\n",
    "        y_2 = rk4_mv_core(dydx, x_i, y_i, nv, h_step)\n",
    "        y_1 = rk4_mv_core(dydx, x_i, y_i, nv, 0.5*h_step)\n",
    "        y_11 = rk4_mv_core(dydx, x_i+0.5*h_step, y_1, nv, 0.5*h_step)    #TYPO _step FIXED\n",
    "                                                                         #TYPO _1 FIXED\n",
    "        # Compute error\n",
    "        Delta = np.fabs(y_2 - y_11)\n",
    "        \n",
    "        # If the error is too large, take a smaller step\n",
    "        if (Delta.max()/tol > 1.0):\n",
    "            h_step *= SAFETY * (Delta.max()/tol)**(-0.25)\n",
    "        \n",
    "        # Check iteration\n",
    "        if (i>= imax):\n",
    "            print (\"Too many iterations in rk4_mv_ad()\")\n",
    "            raise StopIteration(\"Ending after i = \", i)\n",
    "            \n",
    "        i += 1\n",
    "        \n",
    "    # Why do we want to take a bigger step? This makes no sense to me..\n",
    "    h_new = np.fmin(h_step * (Delta.max()/tol)**(-0.9), h_step*H_NEW_FAC)\n",
    "    \n",
    "    return y_2, h_new, h_step"
   ]
  },
  {
   "cell_type": "markdown",
   "metadata": {},
   "source": [
    "### Define a wrapper for RK4"
   ]
  },
  {
   "cell_type": "code",
   "execution_count": null,
   "metadata": {},
   "outputs": [],
   "source": [
    "def rk4_mv(dfdx, a, b, y_a, tol):\n",
    "    #y_a arange of initial values for each diff eq in the couple\n",
    "    \n",
    "    # Define our starting step\n",
    "    xi = a\n",
    "    yi = y_a.copy()\n",
    "    \n",
    "    # An initial step size == make vary small\n",
    "    h = 1.0e-4 * (b-a)  #Why so small? I thought h was just b-a?\n",
    "    \n",
    "    # Set a maximum number of iterations\n",
    "    imax = 10000\n",
    "    \n",
    "    # Set an iteration variable\n",
    "    i = 0\n",
    "    \n",
    "  #What is all this for?:  \n",
    "    # Set the number of coupled ODES to the size of y_a\n",
    "    nv = len(y_a)\n",
    "    \n",
    "    # Set the initial conditions\n",
    "    x = np.full(1, a)\n",
    "    y = np.full((1,nv), y_a)\n",
    "    \n",
    "    # Set a flag\n",
    "    flag = 1\n",
    "    \n",
    "    while(flag):\n",
    "        #Calculate y_i+1:\n",
    "        yi_new, h_new, h_step = rk4_mv_ad(dydx, xi, yi, nv, h, tol)\n",
    "        \n",
    "        # Update the step\n",
    "        h = h_new\n",
    "        \n",
    "        if(xi+h_step > b):\n",
    "            \n",
    "            # Take a smaller step\n",
    "            h = b-xi\n",
    "            \n",
    "            # Recalculate y_i+1\n",
    "            yi_new, h_new, h_step = rk4_mv_ad(dydx, xi, yi, nv, h, tol)\n",
    "            \n",
    "            # Break\n",
    "            flag = 0\n",
    "            \n",
    "        # Update values\n",
    "        xi += h_step\n",
    "        yi[:] = yi_new[:]\n",
    "        \n",
    "        # Add the step to the arrays\n",
    "        x = np.append(x, xi)\n",
    "        y_new = np.zeros((len(x), nv))\n",
    "        y_new[0:len(x)-1, :] = y\n",
    "        y_new[-1,:] = yi[:]\n",
    "        del y\n",
    "        y = y_new\n",
    "        \n",
    "        # Prevent too many iteratons\n",
    "        if(i >= imax):\n",
    "            \n",
    "            print( \"Maximum iterations reached.\")\n",
    "            raise StopIteration(\"Iteration number = \", i)\n",
    "            \n",
    "        i +=1\n",
    "        \n",
    "        # Output some information\n",
    "        s = \"i = %3d\\tx = %9.8f\\th = %9.8f\\tb=%9.8f\" % (i, xi, h_step, b)\n",
    "        print(s)\n",
    "        \n",
    "        # Break if new xi is == b\n",
    "        if (xi == b):\n",
    "            flag = 0\n",
    "            \n",
    "    return x, y            "
   ]
  },
  {
   "cell_type": "markdown",
   "metadata": {},
   "source": [
    "### Perform the integration"
   ]
  },
  {
   "cell_type": "code",
   "execution_count": null,
   "metadata": {},
   "outputs": [],
   "source": [
    "a = 0.0\n",
    "b = 2.0 * np.pi\n",
    "\n",
    "y_0 = np.zeros(2)\n",
    "y_0[0] = 0.0\n",
    "y_0[1] = 1.0\n",
    "nv = 2\n",
    "\n",
    "tolerance = 1.0e-6\n",
    "\n",
    "#Perform the integration\n",
    "x, y = rk4_mv(dydx, a, b, y_0, tolerance)"
   ]
  },
  {
   "cell_type": "markdown",
   "metadata": {},
   "source": [
    "### Plot the result"
   ]
  },
  {
   "cell_type": "code",
   "execution_count": null,
   "metadata": {},
   "outputs": [],
   "source": [
    "plt.plot(x, y[:,0], 'o', label='y(x)')\n",
    "plt.plot(x, y[:,1], 'o', label='dydx(x)')\n",
    "xx = np.linspace(0, 2.0*np.pi, 1000)\n",
    "plt.plot(xx, np.sin(xx), label='sin(x)')\n",
    "plt.plot(xx, np.cos(xx), label='cos(x)')\n",
    "plt.xlabel('x')\n",
    "plt.ylabel('y, dy/dx')\n",
    "plt.legend(frameon=False)"
   ]
  },
  {
   "cell_type": "code",
   "execution_count": null,
   "metadata": {},
   "outputs": [],
   "source": [
    "sine = np.sin(x)\n",
    "cosine = np.cos(x)\n",
    "\n",
    "y_error = (y[:,0] - sine)\n",
    "dydx_error = (y[:,1] - cosine) ##TYPO comma(,) FIXED\n",
    "\n",
    "plt.plot(x, y_error, label='y(x) Error')\n",
    "plt.plot(x, dydx_error, label=\"dydx(x) Error\") ##TYPO comma(,) FIXED\n",
    "plt.legend(frameon = False)"
   ]
  }
 ],
 "metadata": {
  "kernelspec": {
   "display_name": "Python 3",
   "language": "python",
   "name": "python3"
  },
  "language_info": {
   "codemirror_mode": {
    "name": "ipython",
    "version": 3
   },
   "file_extension": ".py",
   "mimetype": "text/x-python",
   "name": "python",
   "nbconvert_exporter": "python",
   "pygments_lexer": "ipython3",
   "version": "3.4.6"
  }
 },
 "nbformat": 4,
 "nbformat_minor": 2
}
